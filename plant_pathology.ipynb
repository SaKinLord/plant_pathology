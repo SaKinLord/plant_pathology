{
  "cells": [
    {
      "cell_type": "code",
      "execution_count": 1,
      "id": "40313814-f1e7-4bd5-bf8d-dfe845a7cd19",
      "metadata": {
        "id": "40313814-f1e7-4bd5-bf8d-dfe845a7cd19"
      },
      "outputs": [],
      "source": [
        "import pandas as pd"
      ]
    },
    {
      "cell_type": "code",
      "source": [
        "train_df = pd.read_csv('train.csv')"
      ],
      "metadata": {
        "id": "KUpQQzoUhJOR"
      },
      "id": "KUpQQzoUhJOR",
      "execution_count": null,
      "outputs": []
    },
    {
      "cell_type": "code",
      "execution_count": null,
      "id": "98bb47d1-5a2b-42f5-b03a-a628b15a6634",
      "metadata": {
        "id": "98bb47d1-5a2b-42f5-b03a-a628b15a6634",
        "outputId": "51cfec1c-4900-46f9-eb3e-8ab7418a3c71"
      },
      "outputs": [
        {
          "data": {
            "text/html": [
              "<div>\n",
              "<style scoped>\n",
              "    .dataframe tbody tr th:only-of-type {\n",
              "        vertical-align: middle;\n",
              "    }\n",
              "\n",
              "    .dataframe tbody tr th {\n",
              "        vertical-align: top;\n",
              "    }\n",
              "\n",
              "    .dataframe thead th {\n",
              "        text-align: right;\n",
              "    }\n",
              "</style>\n",
              "<table border=\"1\" class=\"dataframe\">\n",
              "  <thead>\n",
              "    <tr style=\"text-align: right;\">\n",
              "      <th></th>\n",
              "      <th>image_id</th>\n",
              "      <th>healthy</th>\n",
              "      <th>multiple_diseases</th>\n",
              "      <th>rust</th>\n",
              "      <th>scab</th>\n",
              "    </tr>\n",
              "  </thead>\n",
              "  <tbody>\n",
              "    <tr>\n",
              "      <th>0</th>\n",
              "      <td>Train_0</td>\n",
              "      <td>0</td>\n",
              "      <td>0</td>\n",
              "      <td>0</td>\n",
              "      <td>1</td>\n",
              "    </tr>\n",
              "    <tr>\n",
              "      <th>1</th>\n",
              "      <td>Train_1</td>\n",
              "      <td>0</td>\n",
              "      <td>1</td>\n",
              "      <td>0</td>\n",
              "      <td>0</td>\n",
              "    </tr>\n",
              "    <tr>\n",
              "      <th>2</th>\n",
              "      <td>Train_2</td>\n",
              "      <td>1</td>\n",
              "      <td>0</td>\n",
              "      <td>0</td>\n",
              "      <td>0</td>\n",
              "    </tr>\n",
              "    <tr>\n",
              "      <th>3</th>\n",
              "      <td>Train_3</td>\n",
              "      <td>0</td>\n",
              "      <td>0</td>\n",
              "      <td>1</td>\n",
              "      <td>0</td>\n",
              "    </tr>\n",
              "    <tr>\n",
              "      <th>4</th>\n",
              "      <td>Train_4</td>\n",
              "      <td>1</td>\n",
              "      <td>0</td>\n",
              "      <td>0</td>\n",
              "      <td>0</td>\n",
              "    </tr>\n",
              "  </tbody>\n",
              "</table>\n",
              "</div>"
            ],
            "text/plain": [
              "  image_id  healthy  multiple_diseases  rust  scab\n",
              "0  Train_0        0                  0     0     1\n",
              "1  Train_1        0                  1     0     0\n",
              "2  Train_2        1                  0     0     0\n",
              "3  Train_3        0                  0     1     0\n",
              "4  Train_4        1                  0     0     0"
            ]
          },
          "execution_count": 43,
          "metadata": {},
          "output_type": "execute_result"
        }
      ],
      "source": [
        "train_df.head()"
      ]
    },
    {
      "cell_type": "code",
      "execution_count": null,
      "id": "d12cc855-61b2-4b8e-84c8-b16216a4a082",
      "metadata": {
        "id": "d12cc855-61b2-4b8e-84c8-b16216a4a082",
        "outputId": "2055ace4-26f3-48f1-aa01-898f478ab553"
      },
      "outputs": [
        {
          "name": "stdout",
          "output_type": "stream",
          "text": [
            "<class 'pandas.core.frame.DataFrame'>\n",
            "RangeIndex: 1821 entries, 0 to 1820\n",
            "Data columns (total 5 columns):\n",
            " #   Column             Non-Null Count  Dtype \n",
            "---  ------             --------------  ----- \n",
            " 0   image_id           1821 non-null   object\n",
            " 1   healthy            1821 non-null   int64 \n",
            " 2   multiple_diseases  1821 non-null   int64 \n",
            " 3   rust               1821 non-null   int64 \n",
            " 4   scab               1821 non-null   int64 \n",
            "dtypes: int64(4), object(1)\n",
            "memory usage: 71.3+ KB\n"
          ]
        }
      ],
      "source": [
        "train_df.info()"
      ]
    },
    {
      "cell_type": "code",
      "execution_count": null,
      "id": "f72936c6-6e4d-4502-bbdd-0310307747b8",
      "metadata": {
        "id": "f72936c6-6e4d-4502-bbdd-0310307747b8",
        "outputId": "db669065-b1ef-4fa5-e630-5bf6dfa4ce48"
      },
      "outputs": [
        {
          "data": {
            "text/plain": [
              "image_id             0\n",
              "healthy              0\n",
              "multiple_diseases    0\n",
              "rust                 0\n",
              "scab                 0\n",
              "dtype: int64"
            ]
          },
          "execution_count": 45,
          "metadata": {},
          "output_type": "execute_result"
        }
      ],
      "source": [
        "train_df.isnull().sum()"
      ]
    },
    {
      "cell_type": "code",
      "execution_count": null,
      "id": "8de1e238-2b08-4dc5-8f17-de42fb81296f",
      "metadata": {
        "id": "8de1e238-2b08-4dc5-8f17-de42fb81296f",
        "outputId": "d0e581cd-ff03-48bc-e4a1-cfe2d98140f6"
      },
      "outputs": [
        {
          "data": {
            "text/plain": [
              "Index(['image_id', 'healthy', 'multiple_diseases', 'rust', 'scab'], dtype='object')"
            ]
          },
          "execution_count": 46,
          "metadata": {},
          "output_type": "execute_result"
        }
      ],
      "source": [
        "train_df.columns"
      ]
    },
    {
      "cell_type": "code",
      "execution_count": null,
      "id": "d00cfb43-4a8e-4e61-90b2-2939efdc7e9d",
      "metadata": {
        "id": "d00cfb43-4a8e-4e61-90b2-2939efdc7e9d"
      },
      "outputs": [],
      "source": [
        "distribution = train_df[['healthy','multiple_diseases','rust','scab']].sum()"
      ]
    },
    {
      "cell_type": "code",
      "execution_count": null,
      "id": "103c03f5-ee72-4b59-ae40-a4725fcb9880",
      "metadata": {
        "id": "103c03f5-ee72-4b59-ae40-a4725fcb9880",
        "outputId": "eb7579bf-f924-48e8-9ca0-d3e07d2fe45c"
      },
      "outputs": [
        {
          "name": "stderr",
          "output_type": "stream",
          "text": [
            "C:\\Users\\merto\\AppData\\Local\\Temp\\ipykernel_12632\\3640875193.py:2: FutureWarning: \n",
            "\n",
            "Passing `palette` without assigning `hue` is deprecated and will be removed in v0.14.0. Assign the `x` variable to `hue` and set `legend=False` for the same effect.\n",
            "\n",
            "  ax = sns.barplot(x=distribution.index,y=distribution.values, palette='Set2')\n"
          ]
        },
        {
          "data": {
            "image/png": "[encoded data removed]",
            "text/plain": [
              "<Figure size 640x480 with 1 Axes>"
            ]
          },
          "metadata": {},
          "output_type": "display_data"
        }
      ],
      "source": [
        "import seaborn as sns\n",
        "ax = sns.barplot(x=distribution.index,y=distribution.values, palette='Set2')\n",
        "ax.set_title(\"Class Distribution\", fontsize=16)\n",
        "ax.set_xlabel(\"Categories\", fontsize=14)\n",
        "ax.set_ylabel(\"Values\", fontsize=14)\n",
        "for p in ax.patches:\n",
        "    height = p.get_height()\n",
        "    ax.annotate(f'{height:.0f}',\n",
        "                (p.get_x() + p.get_width() / 2, height),\n",
        "                ha='center', va='bottom')"
      ]
    },
    {
      "cell_type": "code",
      "execution_count": null,
      "id": "cd16c8f3-9950-40f7-afb7-548dcdc4bcae",
      "metadata": {
        "id": "cd16c8f3-9950-40f7-afb7-548dcdc4bcae"
      },
      "outputs": [],
      "source": [
        "test_df = pd.read_csv('test.csv')"
      ]
    },
    {
      "cell_type": "code",
      "execution_count": null,
      "id": "c3068025-96ae-403a-b136-022d08234b28",
      "metadata": {
        "id": "c3068025-96ae-403a-b136-022d08234b28",
        "outputId": "8bfdfffb-a179-4760-9d94-1cf394e8910c"
      },
      "outputs": [
        {
          "data": {
            "text/html": [
              "<div>\n",
              "<style scoped>\n",
              "    .dataframe tbody tr th:only-of-type {\n",
              "        vertical-align: middle;\n",
              "    }\n",
              "\n",
              "    .dataframe tbody tr th {\n",
              "        vertical-align: top;\n",
              "    }\n",
              "\n",
              "    .dataframe thead th {\n",
              "        text-align: right;\n",
              "    }\n",
              "</style>\n",
              "<table border=\"1\" class=\"dataframe\">\n",
              "  <thead>\n",
              "    <tr style=\"text-align: right;\">\n",
              "      <th></th>\n",
              "      <th>image_id</th>\n",
              "    </tr>\n",
              "  </thead>\n",
              "  <tbody>\n",
              "    <tr>\n",
              "      <th>0</th>\n",
              "      <td>Test_0</td>\n",
              "    </tr>\n",
              "    <tr>\n",
              "      <th>1</th>\n",
              "      <td>Test_1</td>\n",
              "    </tr>\n",
              "    <tr>\n",
              "      <th>2</th>\n",
              "      <td>Test_2</td>\n",
              "    </tr>\n",
              "    <tr>\n",
              "      <th>3</th>\n",
              "      <td>Test_3</td>\n",
              "    </tr>\n",
              "    <tr>\n",
              "      <th>4</th>\n",
              "      <td>Test_4</td>\n",
              "    </tr>\n",
              "  </tbody>\n",
              "</table>\n",
              "</div>"
            ],
            "text/plain": [
              "  image_id\n",
              "0   Test_0\n",
              "1   Test_1\n",
              "2   Test_2\n",
              "3   Test_3\n",
              "4   Test_4"
            ]
          },
          "execution_count": 50,
          "metadata": {},
          "output_type": "execute_result"
        }
      ],
      "source": [
        "test_df.head()"
      ]
    },
    {
      "cell_type": "code",
      "execution_count": null,
      "id": "6ca0c532-99b7-450b-b966-6346319f4349",
      "metadata": {
        "id": "6ca0c532-99b7-450b-b966-6346319f4349"
      },
      "outputs": [],
      "source": [
        "from tensorflow.keras import models, layers\n",
        "\n",
        "model = models.Sequential([\n",
        "    layers.Input(shape=(256, 256, 3)),  # Explicit input layer\n",
        "    layers.Conv2D(64, (3, 3), activation='relu'),\n",
        "    layers.MaxPooling2D((2, 2)),\n",
        "    layers.Conv2D(128, (3, 3), activation='relu'),\n",
        "    layers.MaxPooling2D((2, 2)),\n",
        "    layers.Conv2D(256, (3, 3), activation='relu'),\n",
        "    layers.MaxPooling2D((2, 2)),\n",
        "    layers.Conv2D(512, (3, 3), activation='relu'),\n",
        "    layers.MaxPooling2D((2, 2)),\n",
        "    layers.Flatten(),\n",
        "    layers.Dropout(0.5),  # 50% dropout applied\n",
        "    layers.Dense(256, activation='relu'),\n",
        "    layers.Dense(4, activation='softmax')\n",
        "])"
      ]
    },
    {
      "cell_type": "code",
      "execution_count": null,
      "id": "3a553e83-f472-4203-bf38-4ab6add79b7d",
      "metadata": {
        "id": "3a553e83-f472-4203-bf38-4ab6add79b7d"
      },
      "outputs": [],
      "source": [
        "from tensorflow.keras.optimizers import Adam\n",
        "import tensorflow as tf\n",
        "\n",
        "model.compile(\n",
        "    optimizer=Adam(learning_rate=0.0001),\n",
        "    loss='categorical_crossentropy',\n",
        "    metrics=['accuracy', tf.keras.metrics.Precision(), tf.keras.metrics.Recall()]\n",
        ")\n"
      ]
    },
    {
      "cell_type": "code",
      "execution_count": null,
      "id": "bd802532-7db1-472c-93ea-08615f5e42a3",
      "metadata": {
        "id": "bd802532-7db1-472c-93ea-08615f5e42a3",
        "outputId": "4f9f9930-a0a5-4d44-e909-2551e674a259"
      },
      "outputs": [
        {
          "name": "stdout",
          "output_type": "stream",
          "text": [
            "Class Weights: {0: 0.8822674418604651, 1: 5.002747252747253, 2: 0.7319131832797428, 3: 0.7690033783783784}\n"
          ]
        }
      ],
      "source": [
        "import numpy as np\n",
        "from sklearn.utils.class_weight import compute_class_weight\n",
        "\n",
        "# Prepare class labels (0: healthy, 1: multiple_diseases, 2: rust, 3: scab)\n",
        "class_labels = np.argmax(train_df[['healthy', 'multiple_diseases', 'rust', 'scab']].values, axis=1)\n",
        "\n",
        "# Calculate class weights\n",
        "class_weights = compute_class_weight(\n",
        "    class_weight='balanced',      # Reason: To balance all classes with equal importance.\n",
        "    classes=np.unique(class_labels),\n",
        "    y=class_labels\n",
        ")\n",
        "class_weights = dict(enumerate(class_weights))\n",
        "\n",
        "print(\"Class Weights:\", class_weights)"
      ]
    },
    {
      "cell_type": "code",
      "execution_count": null,
      "id": "046bc33b-a350-4ffe-91c6-b9d0de205153",
      "metadata": {
        "id": "046bc33b-a350-4ffe-91c6-b9d0de205153"
      },
      "outputs": [],
      "source": [
        "from tensorflow.keras.callbacks import EarlyStopping\n",
        "\n",
        "early_stop = EarlyStopping(monitor='val_loss', patience=5, min_delta=0.001, restore_best_weights=True)"
      ]
    },
    {
      "cell_type": "code",
      "execution_count": null,
      "id": "390ac214-cbbd-4971-b4fe-3c4315704d80",
      "metadata": {
        "id": "390ac214-cbbd-4971-b4fe-3c4315704d80",
        "outputId": "6dfdef3d-908d-4307-d99b-384b808f9bf3"
      },
      "outputs": [
        {
          "name": "stdout",
          "output_type": "stream",
          "text": [
            "Found 1457 validated image filenames.\n",
            "Found 364 validated image filenames.\n"
          ]
        }
      ],
      "source": [
        "import os\n",
        "import pandas as pd\n",
        "from tensorflow.keras.preprocessing.image import ImageDataGenerator\n",
        "\n",
        "# Specify the project path\n",
        "project_path = r\"\\plant-pathology\"\n",
        "\n",
        "# Clean up 'image_id' column in CSV by removing spaces and adding '.jpg' extension\n",
        "train_df['image_id'] = train_df['image_id'].str.strip() + \".jpg\"\n",
        "\n",
        "# Define ImageDataGenerator with validation_split\n",
        "train_datagen = ImageDataGenerator(\n",
        "    rescale=1./255,\n",
        "    rotation_range=40,       # Wider rotation angle\n",
        "    width_shift_range=0.2,   # Horizontal shift\n",
        "    height_shift_range=0.2,  # Vertical shift\n",
        "    shear_range=0.2,         # Shear transformation\n",
        "    zoom_range=0.2,          # Zoom\n",
        "    horizontal_flip=True,\n",
        "    fill_mode='nearest',     # Fill in empty pixels\n",
        "    validation_split=0.2     # Set aside 20% of the dataset for validation\n",
        ")\n",
        "\n",
        "# Generator for training data\n",
        "train_generator = train_datagen.flow_from_dataframe(\n",
        "    dataframe=train_df,\n",
        "    directory=os.path.join(project_path, \"images\"),\n",
        "    x_col=\"image_id\",\n",
        "    y_col=[\"healthy\", \"multiple_diseases\", \"rust\", \"scab\"],\n",
        "    target_size=(256, 256),\n",
        "    batch_size=16,\n",
        "    class_mode=\"raw\",\n",
        "    subset=\"training\"        # Use the training set\n",
        ")\n",
        "\n",
        "# Generator for validation data\n",
        "validation_generator = train_datagen.flow_from_dataframe(\n",
        "    dataframe=train_df,\n",
        "    directory=os.path.join(project_path, \"images\"),\n",
        "    x_col=\"image_id\",\n",
        "    y_col=[\"healthy\", \"multiple_diseases\", \"rust\", \"scab\"],\n",
        "    target_size=(256, 256),\n",
        "    batch_size=16,\n",
        "    class_mode=\"raw\",\n",
        "    subset=\"validation\"      # Use the validation set\n",
        ")"
      ]
    },
    {
      "cell_type": "code",
      "execution_count": null,
      "id": "16b9e773-bf0d-4e6c-9e4c-a22b6a8a3dcc",
      "metadata": {
        "id": "16b9e773-bf0d-4e6c-9e4c-a22b6a8a3dcc",
        "outputId": "f0b751e6-051b-419a-b9a3-6073140e4908"
      },
      "outputs": [
        {
          "name": "stderr",
          "output_type": "stream",
          "text": [
            "C:\\Users\\merto\\AppData\\Local\\Programs\\Python\\Python311\\Lib\\site-packages\\keras\\src\\trainers\\data_adapters\\py_dataset_adapter.py:121: UserWarning: Your `PyDataset` class should call `super().__init__(**kwargs)` in its constructor. `**kwargs` can include `workers`, `use_multiprocessing`, `max_queue_size`. Do not pass these arguments to `fit()`, as they will be ignored.\n",
            "  self._warn_if_super_not_called()\n"
          ]
        },
        {
          "name": "stdout",
          "output_type": "stream",
          "text": [
            "Epoch 1/50\n",
            "\u001b[1m92/92\u001b[0m \u001b[32m━━━━━━━━━━━━━━━━━━━━\u001b[0m\u001b[37m\u001b[0m \u001b[1m156s\u001b[0m 2s/step - accuracy: 0.2219 - loss: 1.4328 - precision_3: 0.5871 - recall_3: 0.0073 - val_accuracy: 0.3379 - val_loss: 1.3870 - val_precision_3: 0.0000e+00 - val_recall_3: 0.0000e+00\n",
            "Epoch 2/50\n",
            "\u001b[1m92/92\u001b[0m \u001b[32m━━━━━━━━━━━━━━━━━━━━\u001b[0m\u001b[37m\u001b[0m \u001b[1m160s\u001b[0m 2s/step - accuracy: 0.3657 - loss: 1.3972 - precision_3: 0.0000e+00 - recall_3: 0.0000e+00 - val_accuracy: 0.3132 - val_loss: 1.3664 - val_precision_3: 0.0000e+00 - val_recall_3: 0.0000e+00\n",
            "Epoch 3/50\n",
            "\u001b[1m92/92\u001b[0m \u001b[32m━━━━━━━━━━━━━━━━━━━━\u001b[0m\u001b[37m\u001b[0m \u001b[1m160s\u001b[0m 2s/step - accuracy: 0.3918 - loss: 1.3548 - precision_3: 0.3136 - recall_3: 0.0101 - val_accuracy: 0.4066 - val_loss: 1.3882 - val_precision_3: 0.0000e+00 - val_recall_3: 0.0000e+00\n",
            "Epoch 4/50\n",
            "\u001b[1m92/92\u001b[0m \u001b[32m━━━━━━━━━━━━━━━━━━━━\u001b[0m\u001b[37m\u001b[0m \u001b[1m160s\u001b[0m 2s/step - accuracy: 0.3562 - loss: 1.3488 - precision_3: 0.7527 - recall_3: 0.0019 - val_accuracy: 0.3324 - val_loss: 1.3688 - val_precision_3: 0.0000e+00 - val_recall_3: 0.0000e+00\n",
            "Epoch 5/50\n",
            "\u001b[1m92/92\u001b[0m \u001b[32m━━━━━━━━━━━━━━━━━━━━\u001b[0m\u001b[37m\u001b[0m \u001b[1m191s\u001b[0m 2s/step - accuracy: 0.3849 - loss: 1.3830 - precision_3: 0.3003 - recall_3: 0.0052 - val_accuracy: 0.3132 - val_loss: 1.3756 - val_precision_3: 0.0000e+00 - val_recall_3: 0.0000e+00\n",
            "Epoch 6/50\n",
            "\u001b[1m92/92\u001b[0m \u001b[32m━━━━━━━━━━━━━━━━━━━━\u001b[0m\u001b[37m\u001b[0m \u001b[1m179s\u001b[0m 2s/step - accuracy: 0.4144 - loss: 1.3683 - precision_3: 0.7474 - recall_3: 0.0316 - val_accuracy: 0.5000 - val_loss: 1.2825 - val_precision_3: 0.7500 - val_recall_3: 0.1236\n",
            "Epoch 7/50\n",
            "\u001b[1m92/92\u001b[0m \u001b[32m━━━━━━━━━━━━━━━━━━━━\u001b[0m\u001b[37m\u001b[0m \u001b[1m181s\u001b[0m 2s/step - accuracy: 0.4935 - loss: 1.2784 - precision_3: 0.9031 - recall_3: 0.1238 - val_accuracy: 0.6374 - val_loss: 1.1760 - val_precision_3: 0.8254 - val_recall_3: 0.1429\n",
            "Epoch 8/50\n",
            "\u001b[1m92/92\u001b[0m \u001b[32m━━━━━━━━━━━━━━━━━━━━\u001b[0m\u001b[37m\u001b[0m \u001b[1m174s\u001b[0m 2s/step - accuracy: 0.5518 - loss: 1.1950 - precision_3: 0.8394 - recall_3: 0.1633 - val_accuracy: 0.6456 - val_loss: 1.1436 - val_precision_3: 0.7391 - val_recall_3: 0.2335\n",
            "Epoch 9/50\n",
            "\u001b[1m92/92\u001b[0m \u001b[32m━━━━━━━━━━━━━━━━━━━━\u001b[0m\u001b[37m\u001b[0m \u001b[1m152s\u001b[0m 2s/step - accuracy: 0.5647 - loss: 1.1762 - precision_3: 0.7867 - recall_3: 0.2211 - val_accuracy: 0.6758 - val_loss: 1.0993 - val_precision_3: 0.8362 - val_recall_3: 0.2665\n",
            "Epoch 10/50\n",
            "\u001b[1m92/92\u001b[0m \u001b[32m━━━━━━━━━━━━━━━━━━━━\u001b[0m\u001b[37m\u001b[0m \u001b[1m150s\u001b[0m 2s/step - accuracy: 0.6155 - loss: 1.0911 - precision_3: 0.8956 - recall_3: 0.2686 - val_accuracy: 0.6978 - val_loss: 0.9675 - val_precision_3: 0.8500 - val_recall_3: 0.2802\n",
            "Epoch 11/50\n",
            "\u001b[1m92/92\u001b[0m \u001b[32m━━━━━━━━━━━━━━━━━━━━\u001b[0m\u001b[37m\u001b[0m \u001b[1m152s\u001b[0m 2s/step - accuracy: 0.6210 - loss: 1.1154 - precision_3: 0.8951 - recall_3: 0.2787 - val_accuracy: 0.6346 - val_loss: 0.9974 - val_precision_3: 0.8587 - val_recall_3: 0.2170\n",
            "Epoch 12/50\n",
            "\u001b[1m92/92\u001b[0m \u001b[32m━━━━━━━━━━━━━━━━━━━━\u001b[0m\u001b[37m\u001b[0m \u001b[1m151s\u001b[0m 2s/step - accuracy: 0.6505 - loss: 1.0920 - precision_3: 0.8644 - recall_3: 0.3476 - val_accuracy: 0.4066 - val_loss: 1.2197 - val_precision_3: 0.8409 - val_recall_3: 0.1016\n",
            "Epoch 13/50\n",
            "\u001b[1m92/92\u001b[0m \u001b[32m━━━━━━━━━━━━━━━━━━━━\u001b[0m\u001b[37m\u001b[0m \u001b[1m149s\u001b[0m 2s/step - accuracy: 0.5520 - loss: 1.1541 - precision_3: 0.8792 - recall_3: 0.2359 - val_accuracy: 0.7198 - val_loss: 0.8232 - val_precision_3: 0.8505 - val_recall_3: 0.4533\n",
            "Epoch 14/50\n",
            "\u001b[1m92/92\u001b[0m \u001b[32m━━━━━━━━━━━━━━━━━━━━\u001b[0m\u001b[37m\u001b[0m \u001b[1m148s\u001b[0m 2s/step - accuracy: 0.6711 - loss: 0.9820 - precision_3: 0.8074 - recall_3: 0.4300 - val_accuracy: 0.7005 - val_loss: 0.8162 - val_precision_3: 0.8588 - val_recall_3: 0.4176\n",
            "Epoch 15/50\n",
            "\u001b[1m92/92\u001b[0m \u001b[32m━━━━━━━━━━━━━━━━━━━━\u001b[0m\u001b[37m\u001b[0m \u001b[1m148s\u001b[0m 2s/step - accuracy: 0.6992 - loss: 0.8890 - precision_3: 0.8549 - recall_3: 0.4546 - val_accuracy: 0.6593 - val_loss: 0.9267 - val_precision_3: 0.7419 - val_recall_3: 0.3791\n",
            "Epoch 16/50\n",
            "\u001b[1m92/92\u001b[0m \u001b[32m━━━━━━━━━━━━━━━━━━━━\u001b[0m\u001b[37m\u001b[0m \u001b[1m151s\u001b[0m 2s/step - accuracy: 0.6600 - loss: 0.9132 - precision_3: 0.7689 - recall_3: 0.4663 - val_accuracy: 0.7143 - val_loss: 0.7072 - val_precision_3: 0.8225 - val_recall_3: 0.6236\n",
            "Epoch 17/50\n",
            "\u001b[1m92/92\u001b[0m \u001b[32m━━━━━━━━━━━━━━━━━━━━\u001b[0m\u001b[37m\u001b[0m \u001b[1m148s\u001b[0m 2s/step - accuracy: 0.7283 - loss: 0.8615 - precision_3: 0.8071 - recall_3: 0.6006 - val_accuracy: 0.6593 - val_loss: 0.8779 - val_precision_3: 0.6929 - val_recall_3: 0.5082\n",
            "Epoch 18/50\n",
            "\u001b[1m92/92\u001b[0m \u001b[32m━━━━━━━━━━━━━━━━━━━━\u001b[0m\u001b[37m\u001b[0m \u001b[1m149s\u001b[0m 2s/step - accuracy: 0.6932 - loss: 0.8519 - precision_3: 0.7830 - recall_3: 0.5511 - val_accuracy: 0.7473 - val_loss: 0.6756 - val_precision_3: 0.7948 - val_recall_3: 0.6703\n",
            "Epoch 19/50\n",
            "\u001b[1m92/92\u001b[0m \u001b[32m━━━━━━━━━━━━━━━━━━━━\u001b[0m\u001b[37m\u001b[0m \u001b[1m149s\u001b[0m 2s/step - accuracy: 0.7289 - loss: 0.8336 - precision_3: 0.8096 - recall_3: 0.6267 - val_accuracy: 0.7005 - val_loss: 0.7746 - val_precision_3: 0.7749 - val_recall_3: 0.5769\n",
            "Epoch 20/50\n",
            "\u001b[1m92/92\u001b[0m \u001b[32m━━━━━━━━━━━━━━━━━━━━\u001b[0m\u001b[37m\u001b[0m \u001b[1m149s\u001b[0m 2s/step - accuracy: 0.7109 - loss: 0.7710 - precision_3: 0.8002 - recall_3: 0.6109 - val_accuracy: 0.7198 - val_loss: 0.7297 - val_precision_3: 0.8100 - val_recall_3: 0.6209\n",
            "Epoch 21/50\n",
            "\u001b[1m92/92\u001b[0m \u001b[32m━━━━━━━━━━━━━━━━━━━━\u001b[0m\u001b[37m\u001b[0m \u001b[1m149s\u001b[0m 2s/step - accuracy: 0.7364 - loss: 0.7923 - precision_3: 0.8059 - recall_3: 0.5984 - val_accuracy: 0.7418 - val_loss: 0.6917 - val_precision_3: 0.8188 - val_recall_3: 0.6456\n",
            "Epoch 22/50\n",
            "\u001b[1m92/92\u001b[0m \u001b[32m━━━━━━━━━━━━━━━━━━━━\u001b[0m\u001b[37m\u001b[0m \u001b[1m149s\u001b[0m 2s/step - accuracy: 0.7248 - loss: 0.7621 - precision_3: 0.7761 - recall_3: 0.6279 - val_accuracy: 0.6758 - val_loss: 0.7600 - val_precision_3: 0.6958 - val_recall_3: 0.5907\n",
            "Epoch 23/50\n",
            "\u001b[1m92/92\u001b[0m \u001b[32m━━━━━━━━━━━━━━━━━━━━\u001b[0m\u001b[37m\u001b[0m \u001b[1m149s\u001b[0m 2s/step - accuracy: 0.7115 - loss: 0.6851 - precision_3: 0.7744 - recall_3: 0.6416 - val_accuracy: 0.7308 - val_loss: 0.6722 - val_precision_3: 0.7664 - val_recall_3: 0.6758\n",
            "Epoch 24/50\n",
            "\u001b[1m92/92\u001b[0m \u001b[32m━━━━━━━━━━━━━━━━━━━━\u001b[0m\u001b[37m\u001b[0m \u001b[1m148s\u001b[0m 2s/step - accuracy: 0.6828 - loss: 0.7682 - precision_3: 0.7313 - recall_3: 0.6248 - val_accuracy: 0.7363 - val_loss: 0.6827 - val_precision_3: 0.7800 - val_recall_3: 0.6429\n",
            "Epoch 25/50\n",
            "\u001b[1m92/92\u001b[0m \u001b[32m━━━━━━━━━━━━━━━━━━━━\u001b[0m\u001b[37m\u001b[0m \u001b[1m149s\u001b[0m 2s/step - accuracy: 0.7321 - loss: 0.7430 - precision_3: 0.7697 - recall_3: 0.6351 - val_accuracy: 0.6786 - val_loss: 0.7225 - val_precision_3: 0.7085 - val_recall_3: 0.6209\n",
            "Epoch 26/50\n",
            "\u001b[1m92/92\u001b[0m \u001b[32m━━━━━━━━━━━━━━━━━━━━\u001b[0m\u001b[37m\u001b[0m \u001b[1m150s\u001b[0m 2s/step - accuracy: 0.7332 - loss: 0.7468 - precision_3: 0.7689 - recall_3: 0.6735 - val_accuracy: 0.7445 - val_loss: 0.6787 - val_precision_3: 0.7699 - val_recall_3: 0.6896\n",
            "Epoch 27/50\n",
            "\u001b[1m92/92\u001b[0m \u001b[32m━━━━━━━━━━━━━━━━━━━━\u001b[0m\u001b[37m\u001b[0m \u001b[1m149s\u001b[0m 2s/step - accuracy: 0.7421 - loss: 0.7045 - precision_3: 0.7886 - recall_3: 0.6757 - val_accuracy: 0.7610 - val_loss: 0.5888 - val_precision_3: 0.8106 - val_recall_3: 0.7170\n",
            "Epoch 28/50\n",
            "\u001b[1m92/92\u001b[0m \u001b[32m━━━━━━━━━━━━━━━━━━━━\u001b[0m\u001b[37m\u001b[0m \u001b[1m149s\u001b[0m 2s/step - accuracy: 0.7306 - loss: 0.7479 - precision_3: 0.7950 - recall_3: 0.6568 - val_accuracy: 0.7363 - val_loss: 0.6670 - val_precision_3: 0.7631 - val_recall_3: 0.6813\n",
            "Epoch 29/50\n",
            "\u001b[1m92/92\u001b[0m \u001b[32m━━━━━━━━━━━━━━━━━━━━\u001b[0m\u001b[37m\u001b[0m \u001b[1m149s\u001b[0m 2s/step - accuracy: 0.7282 - loss: 0.6456 - precision_3: 0.7594 - recall_3: 0.6916 - val_accuracy: 0.7445 - val_loss: 0.6295 - val_precision_3: 0.7802 - val_recall_3: 0.6923\n",
            "Epoch 30/50\n",
            "\u001b[1m92/92\u001b[0m \u001b[32m━━━━━━━━━━━━━━━━━━━━\u001b[0m\u001b[37m\u001b[0m \u001b[1m149s\u001b[0m 2s/step - accuracy: 0.7616 - loss: 0.6706 - precision_3: 0.7876 - recall_3: 0.6907 - val_accuracy: 0.7143 - val_loss: 0.6686 - val_precision_3: 0.7762 - val_recall_3: 0.6099\n",
            "Epoch 31/50\n",
            "\u001b[1m92/92\u001b[0m \u001b[32m━━━━━━━━━━━━━━━━━━━━\u001b[0m\u001b[37m\u001b[0m \u001b[1m148s\u001b[0m 2s/step - accuracy: 0.7801 - loss: 0.5943 - precision_3: 0.8088 - recall_3: 0.7227 - val_accuracy: 0.7802 - val_loss: 0.5591 - val_precision_3: 0.8012 - val_recall_3: 0.7527\n",
            "Epoch 32/50\n",
            "\u001b[1m92/92\u001b[0m \u001b[32m━━━━━━━━━━━━━━━━━━━━\u001b[0m\u001b[37m\u001b[0m \u001b[1m149s\u001b[0m 2s/step - accuracy: 0.8147 - loss: 0.5024 - precision_3: 0.8519 - recall_3: 0.7818 - val_accuracy: 0.7500 - val_loss: 0.6312 - val_precision_3: 0.7788 - val_recall_3: 0.7060\n",
            "Epoch 33/50\n",
            "\u001b[1m92/92\u001b[0m \u001b[32m━━━━━━━━━━━━━━━━━━━━\u001b[0m\u001b[37m\u001b[0m \u001b[1m149s\u001b[0m 2s/step - accuracy: 0.7813 - loss: 0.6197 - precision_3: 0.7939 - recall_3: 0.7177 - val_accuracy: 0.7802 - val_loss: 0.5765 - val_precision_3: 0.8053 - val_recall_3: 0.7500\n",
            "Epoch 34/50\n",
            "\u001b[1m92/92\u001b[0m \u001b[32m━━━━━━━━━━━━━━━━━━━━\u001b[0m\u001b[37m\u001b[0m \u001b[1m150s\u001b[0m 2s/step - accuracy: 0.7755 - loss: 0.5775 - precision_3: 0.8022 - recall_3: 0.7223 - val_accuracy: 0.7390 - val_loss: 0.6953 - val_precision_3: 0.7785 - val_recall_3: 0.6951\n",
            "Epoch 35/50\n",
            "\u001b[1m92/92\u001b[0m \u001b[32m━━━━━━━━━━━━━━━━━━━━\u001b[0m\u001b[37m\u001b[0m \u001b[1m151s\u001b[0m 2s/step - accuracy: 0.7712 - loss: 0.5965 - precision_3: 0.8129 - recall_3: 0.7193 - val_accuracy: 0.7005 - val_loss: 0.7270 - val_precision_3: 0.7214 - val_recall_3: 0.6758\n",
            "Epoch 36/50\n",
            "\u001b[1m92/92\u001b[0m \u001b[32m━━━━━━━━━━━━━━━━━━━━\u001b[0m\u001b[37m\u001b[0m \u001b[1m160s\u001b[0m 2s/step - accuracy: 0.7654 - loss: 0.6215 - precision_3: 0.7922 - recall_3: 0.7310 - val_accuracy: 0.8104 - val_loss: 0.5045 - val_precision_3: 0.8271 - val_recall_3: 0.7885\n",
            "Epoch 37/50\n",
            "\u001b[1m92/92\u001b[0m \u001b[32m━━━━━━━━━━━━━━━━━━━━\u001b[0m\u001b[37m\u001b[0m \u001b[1m148s\u001b[0m 2s/step - accuracy: 0.8485 - loss: 0.4899 - precision_3: 0.8625 - recall_3: 0.8181 - val_accuracy: 0.8187 - val_loss: 0.5551 - val_precision_3: 0.8432 - val_recall_3: 0.7830\n",
            "Epoch 38/50\n",
            "\u001b[1m92/92\u001b[0m \u001b[32m━━━━━━━━━━━━━━━━━━━━\u001b[0m\u001b[37m\u001b[0m \u001b[1m146s\u001b[0m 2s/step - accuracy: 0.8340 - loss: 0.4566 - precision_3: 0.8622 - recall_3: 0.8076 - val_accuracy: 0.7747 - val_loss: 0.5904 - val_precision_3: 0.7803 - val_recall_3: 0.7610\n",
            "Epoch 39/50\n",
            "\u001b[1m92/92\u001b[0m \u001b[32m━━━━━━━━━━━━━━━━━━━━\u001b[0m\u001b[37m\u001b[0m \u001b[1m147s\u001b[0m 2s/step - accuracy: 0.8407 - loss: 0.5367 - precision_3: 0.8619 - recall_3: 0.8161 - val_accuracy: 0.8352 - val_loss: 0.5021 - val_precision_3: 0.8609 - val_recall_3: 0.7995\n",
            "Epoch 40/50\n",
            "\u001b[1m92/92\u001b[0m \u001b[32m━━━━━━━━━━━━━━━━━━━━\u001b[0m\u001b[37m\u001b[0m \u001b[1m146s\u001b[0m 2s/step - accuracy: 0.8568 - loss: 0.4183 - precision_3: 0.8795 - recall_3: 0.8397 - val_accuracy: 0.8077 - val_loss: 0.5349 - val_precision_3: 0.8363 - val_recall_3: 0.7857\n",
            "Epoch 41/50\n",
            "\u001b[1m92/92\u001b[0m \u001b[32m━━━━━━━━━━━━━━━━━━━━\u001b[0m\u001b[37m\u001b[0m \u001b[1m147s\u001b[0m 2s/step - accuracy: 0.8666 - loss: 0.4636 - precision_3: 0.8842 - recall_3: 0.8371 - val_accuracy: 0.8132 - val_loss: 0.5556 - val_precision_3: 0.8267 - val_recall_3: 0.7995\n",
            "Epoch 42/50\n",
            "\u001b[1m92/92\u001b[0m \u001b[32m━━━━━━━━━━━━━━━━━━━━\u001b[0m\u001b[37m\u001b[0m \u001b[1m147s\u001b[0m 2s/step - accuracy: 0.8574 - loss: 0.4315 - precision_3: 0.8693 - recall_3: 0.8349 - val_accuracy: 0.7775 - val_loss: 0.6424 - val_precision_3: 0.8041 - val_recall_3: 0.7555\n",
            "Epoch 43/50\n",
            "\u001b[1m92/92\u001b[0m \u001b[32m━━━━━━━━━━━━━━━━━━━━\u001b[0m\u001b[37m\u001b[0m \u001b[1m147s\u001b[0m 2s/step - accuracy: 0.8307 - loss: 0.5537 - precision_3: 0.8539 - recall_3: 0.8089 - val_accuracy: 0.8214 - val_loss: 0.4982 - val_precision_3: 0.8261 - val_recall_3: 0.7830\n",
            "Epoch 44/50\n",
            "\u001b[1m92/92\u001b[0m \u001b[32m━━━━━━━━━━━━━━━━━━━━\u001b[0m\u001b[37m\u001b[0m \u001b[1m152s\u001b[0m 2s/step - accuracy: 0.8666 - loss: 0.4357 - precision_3: 0.8909 - recall_3: 0.8447 - val_accuracy: 0.6868 - val_loss: 0.7598 - val_precision_3: 0.7045 - val_recall_3: 0.6484\n",
            "Epoch 45/50\n",
            "\u001b[1m92/92\u001b[0m \u001b[32m━━━━━━━━━━━━━━━━━━━━\u001b[0m\u001b[37m\u001b[0m \u001b[1m150s\u001b[0m 2s/step - accuracy: 0.8421 - loss: 0.5034 - precision_3: 0.8586 - recall_3: 0.8227 - val_accuracy: 0.8049 - val_loss: 0.5228 - val_precision_3: 0.8244 - val_recall_3: 0.7995\n",
            "Epoch 46/50\n",
            "\u001b[1m92/92\u001b[0m \u001b[32m━━━━━━━━━━━━━━━━━━━━\u001b[0m\u001b[37m\u001b[0m \u001b[1m151s\u001b[0m 2s/step - accuracy: 0.8824 - loss: 0.4278 - precision_3: 0.8937 - recall_3: 0.8674 - val_accuracy: 0.8489 - val_loss: 0.4110 - val_precision_3: 0.8563 - val_recall_3: 0.8352\n",
            "Epoch 47/50\n",
            "\u001b[1m92/92\u001b[0m \u001b[32m━━━━━━━━━━━━━━━━━━━━\u001b[0m\u001b[37m\u001b[0m \u001b[1m148s\u001b[0m 2s/step - accuracy: 0.8572 - loss: 0.4580 - precision_3: 0.8677 - recall_3: 0.8270 - val_accuracy: 0.8462 - val_loss: 0.4914 - val_precision_3: 0.8588 - val_recall_3: 0.8187\n",
            "Epoch 48/50\n",
            "\u001b[1m92/92\u001b[0m \u001b[32m━━━━━━━━━━━━━━━━━━━━\u001b[0m\u001b[37m\u001b[0m \u001b[1m146s\u001b[0m 2s/step - accuracy: 0.8665 - loss: 0.4239 - precision_3: 0.8836 - recall_3: 0.8466 - val_accuracy: 0.8159 - val_loss: 0.5227 - val_precision_3: 0.8295 - val_recall_3: 0.8022\n",
            "Epoch 49/50\n",
            "\u001b[1m92/92\u001b[0m \u001b[32m━━━━━━━━━━━━━━━━━━━━\u001b[0m\u001b[37m\u001b[0m \u001b[1m145s\u001b[0m 2s/step - accuracy: 0.8633 - loss: 0.4077 - precision_3: 0.8730 - recall_3: 0.8454 - val_accuracy: 0.8022 - val_loss: 0.4823 - val_precision_3: 0.8118 - val_recall_3: 0.7940\n",
            "Epoch 50/50\n",
            "\u001b[1m92/92\u001b[0m \u001b[32m━━━━━━━━━━━━━━━━━━━━\u001b[0m\u001b[37m\u001b[0m \u001b[1m145s\u001b[0m 2s/step - accuracy: 0.8999 - loss: 0.3501 - precision_3: 0.9115 - recall_3: 0.8877 - val_accuracy: 0.8434 - val_loss: 0.4292 - val_precision_3: 0.8539 - val_recall_3: 0.8352\n"
          ]
        }
      ],
      "source": [
        "history = model.fit(\n",
        "    train_generator,\n",
        "    epochs=50,\n",
        "    validation_data=validation_generator,\n",
        "    class_weight=class_weights,\n",
        "    callbacks=[early_stop]\n",
        ")"
      ]
    },
    {
      "cell_type": "code",
      "execution_count": null,
      "id": "875a006b-e3e4-4226-a274-acc1080a146d",
      "metadata": {
        "id": "875a006b-e3e4-4226-a274-acc1080a146d",
        "outputId": "5b43dade-d44c-463c-9ba8-5d0be52736e5"
      },
      "outputs": [
        {
          "data": {
            "image/png": "[encoded data removed]",
            "text/plain": [
              "<Figure size 640x480 with 1 Axes>"
            ]
          },
          "metadata": {},
          "output_type": "display_data"
        },
        {
          "data": {
            "image/png": "[encoded data removed]",
            "text/plain": [
              "<Figure size 640x480 with 1 Axes>"
            ]
          },
          "metadata": {},
          "output_type": "display_data"
        }
      ],
      "source": [
        "import matplotlib.pyplot as plt\n",
        "\n",
        "# Accuracy plot\n",
        "plt.plot(history.history['accuracy'], label='Training Accuracy')\n",
        "plt.plot(history.history['val_accuracy'], label='Validation Accuracy')\n",
        "plt.xlabel('Epoch')\n",
        "plt.ylabel('Accuracy')\n",
        "plt.legend()\n",
        "plt.show()\n",
        "\n",
        "# Loss plot\n",
        "plt.plot(history.history['loss'], label='Training Loss')\n",
        "plt.plot(history.history['val_loss'], label='Validation Loss')\n",
        "plt.xlabel('Epoch')\n",
        "plt.ylabel('Loss')\n",
        "plt.legend()\n",
        "plt.show()"
      ]
    },
    {
      "cell_type": "code",
      "execution_count": null,
      "id": "53d8016a-0fa6-45c3-8f31-cc4128d0493d",
      "metadata": {
        "id": "53d8016a-0fa6-45c3-8f31-cc4128d0493d",
        "outputId": "56aaa30f-de30-45ab-9d2b-241182952bdf"
      },
      "outputs": [
        {
          "name": "stdout",
          "output_type": "stream",
          "text": [
            "Found 1821 validated image filenames.\n"
          ]
        }
      ],
      "source": [
        "# Add '.jpg' extension to the values in the 'image_id' column of the test CSV\n",
        "test_df['image_id'] = test_df['image_id'].str.strip() + \".jpg\"\n",
        "\n",
        "# ImageDataGenerator for testing (we only perform normalization)\n",
        "test_datagen = ImageDataGenerator(rescale=1./255)\n",
        "\n",
        "# Create test data generator\n",
        "test_generator = test_datagen.flow_from_dataframe(\n",
        "    dataframe=test_df,\n",
        "    directory=os.path.join(project_path, \"images\"),\n",
        "    x_col=\"image_id\",\n",
        "    target_size=(256, 256),\n",
        "    batch_size=32,\n",
        "    class_mode=None,   # No labels for test data, so set to None\n",
        "    shuffle=False      # Keep order for evaluation purposes\n",
        ")"
      ]
    },
    {
      "cell_type": "code",
      "execution_count": null,
      "id": "2d1bc9fa-9a3d-4854-b272-96c781320cf6",
      "metadata": {
        "id": "2d1bc9fa-9a3d-4854-b272-96c781320cf6",
        "outputId": "3b455665-bc85-465a-c387-2b2b28e3d4d7"
      },
      "outputs": [
        {
          "name": "stdout",
          "output_type": "stream",
          "text": [
            "\u001b[1m57/57\u001b[0m \u001b[32m━━━━━━━━━━━━━━━━━━━━\u001b[0m\u001b[37m\u001b[0m \u001b[1m42s\u001b[0m 729ms/step\n"
          ]
        }
      ],
      "source": [
        "# Make predictions\n",
        "predictions = model.predict(test_generator)"
      ]
    },
    {
      "cell_type": "code",
      "execution_count": null,
      "id": "1196d4f2-edfc-46b2-bcba-b6fbe9838ff1",
      "metadata": {
        "id": "1196d4f2-edfc-46b2-bcba-b6fbe9838ff1"
      },
      "outputs": [],
      "source": [
        "# Get prediction probabilities (predictions)\n",
        "# Probabilities of 4 classes for each image\n",
        "prediction_probs = predictions  # shape: (num_samples, 4)\n",
        "\n",
        "# Define class names\n",
        "class_names = ['healthy', 'multiple_diseases', 'rust', 'scab']\n",
        "\n",
        "# Convert predictions to DataFrame\n",
        "submission_df = pd.DataFrame(prediction_probs, columns=class_names)\n",
        "submission_df.insert(0, 'image_id', test_df['image_id'])  # Add image_id"
      ]
    },
    {
      "cell_type": "code",
      "execution_count": null,
      "id": "fd40d574-d6f8-4641-b248-68f0c015f1e8",
      "metadata": {
        "id": "fd40d574-d6f8-4641-b248-68f0c015f1e8",
        "outputId": "d39436f0-7540-4e98-f705-7241ba189387"
      },
      "outputs": [
        {
          "name": "stdout",
          "output_type": "stream",
          "text": [
            "Sınıf healthy: 431 tahmin\n",
            "Sınıf multiple_diseases: 213 tahmin\n",
            "Sınıf rust: 744 tahmin\n",
            "Sınıf scab: 433 tahmin\n"
          ]
        }
      ],
      "source": [
        "# Get predicted classes\n",
        "predicted_classes = np.argmax(predictions, axis=1)\n",
        "class_counts = np.bincount(predicted_classes)\n",
        "class_names = ['healthy', 'multiple_diseases', 'rust', 'scab']\n",
        "\n",
        "# Print results\n",
        "for i, count in enumerate(class_counts):\n",
        "    print(f\"Class {class_names[i]}: {count} predictions\")"
      ]
    },
    {
      "cell_type": "code",
      "execution_count": null,
      "id": "76b0f8f3-59c2-4e07-a5a5-a8fda6fa4691",
      "metadata": {
        "id": "76b0f8f3-59c2-4e07-a5a5-a8fda6fa4691",
        "outputId": "5055b61d-c688-4cef-9d4e-cf9dcd189f14"
      },
      "outputs": [
        {
          "name": "stdout",
          "output_type": "stream",
          "text": [
            "  image_id   healthy  multiple_diseases      rust      scab\n",
            "0   Test_0  0.000000           0.135323  0.864677  0.000000\n",
            "1   Test_1  0.000000           0.016705  0.983295  0.000000\n",
            "2   Test_2  0.048114           0.053355  0.000278  0.898253\n",
            "3   Test_3  0.947826           0.009298  0.004895  0.037980\n",
            "4   Test_4  0.000000           0.001032  0.998968  0.000000\n"
          ]
        }
      ],
      "source": [
        "# 1. Get image_ids of test images (in 'Test_0', 'Test_1', ... format)\n",
        "image_ids = test_df['image_id'].str.replace('.jpg', '')  # Remove .jpg extension\n",
        "\n",
        "# 2. Get prediction probabilities (model output)\n",
        "prediction_probs = predictions  # shape: (num_samples, 4)\n",
        "\n",
        "# 3. Create DataFrame\n",
        "submission_df = pd.DataFrame({\n",
        "    'image_id': image_ids,\n",
        "    'healthy': prediction_probs[:, 0],          # First column: healthy probabilities\n",
        "    'multiple_diseases': prediction_probs[:, 1], # Second column: multiple_diseases probabilities\n",
        "    'rust': prediction_probs[:, 2],             # Third column: rust probabilities\n",
        "    'scab': prediction_probs[:, 3]              # Fourth column: scab probabilities\n",
        "})\n",
        "# Check the first 5 rows\n",
        "print(submission_df.head())"
      ]
    }
  ],
  "metadata": {
    "kernelspec": {
      "display_name": "Python 3",
      "name": "python3"
    },
    "language_info": {
      "codemirror_mode": {
        "name": "ipython",
        "version": 3
      },
      "file_extension": ".py",
      "mimetype": "text/x-python",
      "name": "python",
      "nbconvert_exporter": "python",
      "pygments_lexer": "ipython3",
      "version": "3.11.9"
    },
    "colab": {
      "provenance": []
    }
  },
  "nbformat": 4,
  "nbformat_minor": 5
}